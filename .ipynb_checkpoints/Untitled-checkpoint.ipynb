{
 "cells": [
  {
   "cell_type": "code",
   "execution_count": 3,
   "metadata": {},
   "outputs": [],
   "source": [
    "from random import *\n",
    "import urllib\n",
    "import json\n",
    "import requests\n",
    "import pandas as pd\n",
    "import matplotlib.pyplot as plt\n",
    "import pandas as pd\n"
   ]
  },
  {
   "cell_type": "code",
   "execution_count": 4,
   "metadata": {},
   "outputs": [],
   "source": [
    "C_list = pd.DataFrame()\n",
    "\n",
    "for i in range(500):\n",
    "    lat=(random()-.5)*randint(-180,180)\n",
    "    lon=(random()-.5)*randint(-360,360)\n",
    "    coords=pd.DataFrame([[lat,lon]], columns=['lat','lon'])\n",
    "    city_list=city_list.append(coords)\n",
    "    \n",
    "    \n",
    "city_list=city_list.reset_index()\n",
    "city_list=city_list[['lat','lon']]"
   ]
  },
  {
   "cell_type": "code",
   "execution_count": null,
   "metadata": {},
   "outputs": [],
   "source": [
    "# the nearest city to each pair \n",
    "\n",
    "for row in range(0,len(city_list)):\n",
    "    #print(city_list.loc[row]['lat'])\n",
    "    latde = C_list.loc[row]['lat']\n",
    "    lontde = C_list.loc[row]['lon']    \n",
    "    city = citipy.nearest_city(latde,lontde)\n",
    "    C_list.set_value(row, \"city\", city.city_name.title())\n",
    "    C_list.set_value(row, \"country\", city.country_code.upper())"
   ]
  },
  {
   "cell_type": "code",
   "execution_count": 6,
   "metadata": {},
   "outputs": [
    {
     "data": {
      "text/html": [
       "<div>\n",
       "<style scoped>\n",
       "    .dataframe tbody tr th:only-of-type {\n",
       "        vertical-align: middle;\n",
       "    }\n",
       "\n",
       "    .dataframe tbody tr th {\n",
       "        vertical-align: top;\n",
       "    }\n",
       "\n",
       "    .dataframe thead th {\n",
       "        text-align: right;\n",
       "    }\n",
       "</style>\n",
       "<table border=\"1\" class=\"dataframe\">\n",
       "  <thead>\n",
       "    <tr style=\"text-align: right;\">\n",
       "      <th></th>\n",
       "      <th>lat</th>\n",
       "      <th>lon</th>\n",
       "    </tr>\n",
       "  </thead>\n",
       "  <tbody>\n",
       "    <tr>\n",
       "      <th>595</th>\n",
       "      <td>-8.673927</td>\n",
       "      <td>50.806647</td>\n",
       "    </tr>\n",
       "    <tr>\n",
       "      <th>596</th>\n",
       "      <td>76.875629</td>\n",
       "      <td>-12.435233</td>\n",
       "    </tr>\n",
       "    <tr>\n",
       "      <th>597</th>\n",
       "      <td>-3.068302</td>\n",
       "      <td>11.894917</td>\n",
       "    </tr>\n",
       "    <tr>\n",
       "      <th>598</th>\n",
       "      <td>3.830349</td>\n",
       "      <td>8.541884</td>\n",
       "    </tr>\n",
       "    <tr>\n",
       "      <th>599</th>\n",
       "      <td>-45.586736</td>\n",
       "      <td>-23.726341</td>\n",
       "    </tr>\n",
       "  </tbody>\n",
       "</table>\n",
       "</div>"
      ],
      "text/plain": [
       "           lat        lon\n",
       "595  -8.673927  50.806647\n",
       "596  76.875629 -12.435233\n",
       "597  -3.068302  11.894917\n",
       "598   3.830349   8.541884\n",
       "599 -45.586736 -23.726341"
      ]
     },
     "execution_count": 6,
     "metadata": {},
     "output_type": "execute_result"
    }
   ],
   "source": [
    "C_list.head(5)\n",
    "C_list.tail(5)"
   ]
  },
  {
   "cell_type": "code",
   "execution_count": null,
   "metadata": {},
   "outputs": [],
   "source": []
  }
 ],
 "metadata": {
  "kernelspec": {
   "display_name": "Python 3",
   "language": "python",
   "name": "python3"
  },
  "language_info": {
   "codemirror_mode": {
    "name": "ipython",
    "version": 3
   },
   "file_extension": ".py",
   "mimetype": "text/x-python",
   "name": "python",
   "nbconvert_exporter": "python",
   "pygments_lexer": "ipython3",
   "version": "3.7.3"
  }
 },
 "nbformat": 4,
 "nbformat_minor": 4
}
